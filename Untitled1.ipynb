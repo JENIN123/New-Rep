{
  "nbformat": 4,
  "nbformat_minor": 0,
  "metadata": {
    "colab": {
      "provenance": [],
      "authorship_tag": "ABX9TyPbMNSak9C5GGvRvecUODgY",
      "include_colab_link": true
    },
    "kernelspec": {
      "name": "python3",
      "display_name": "Python 3"
    },
    "language_info": {
      "name": "python"
    }
  },
  "cells": [
    {
      "cell_type": "markdown",
      "metadata": {
        "id": "view-in-github",
        "colab_type": "text"
      },
      "source": [
        "<a href=\"https://colab.research.google.com/github/JENIN123/New-Rep/blob/main/Untitled1.ipynb\" target=\"_parent\"><img src=\"https://colab.research.google.com/assets/colab-badge.svg\" alt=\"Open In Colab\"/></a>"
      ]
    },
    {
      "cell_type": "code",
      "execution_count": null,
      "metadata": {
        "id": "3U8x1LQrY2hK"
      },
      "outputs": [],
      "source": [
        "def max_of_three(a,b,c):\n",
        "  return max(a, b, c)\n"
      ]
    },
    {
      "cell_type": "code",
      "source": [
        "def area_of_circle(radius):\n",
        "  return 3.14 * radius ** 2"
      ],
      "metadata": {
        "id": "niwRcM9magIS"
      },
      "execution_count": null,
      "outputs": []
    },
    {
      "cell_type": "code",
      "source": [
        "def is_prime(n):\n",
        "  if n <= 1:\n",
        "    return False\n",
        "  for i in range(2, int(n ** 0.5) + 1):\n",
        "    if n % i == 0:\n",
        "      return False\n",
        "  return True"
      ],
      "metadata": {
        "id": "BXn8Hl_Kbv77"
      },
      "execution_count": null,
      "outputs": []
    },
    {
      "cell_type": "code",
      "source": [
        "def is_palindrome(s):\n",
        "  return s == s[::-1]\n"
      ],
      "metadata": {
        "id": "LsrgKma3b-cU"
      },
      "execution_count": null,
      "outputs": []
    },
    {
      "cell_type": "code",
      "source": [
        "def sum_of_list(lst):\n",
        "  return sum(lst)"
      ],
      "metadata": {
        "id": "9dMHQndGcHAK"
      },
      "execution_count": null,
      "outputs": []
    },
    {
      "cell_type": "code",
      "source": [
        "def average_of_list(lst):\n",
        "  return sum(lst) / len(lst)\n"
      ],
      "metadata": {
        "id": "fgpYLu4FcPBH"
      },
      "execution_count": null,
      "outputs": []
    },
    {
      "cell_type": "code",
      "source": [
        "def kth_largest(lst, k):\n",
        "  return sorted(lst, reverse=True)[k - 1]\n"
      ],
      "metadata": {
        "id": "Q_ewuiT7cXjc"
      },
      "execution_count": null,
      "outputs": []
    },
    {
      "cell_type": "code",
      "source": [
        "def sum_of_digits(n):\n",
        "  return n if n < 10 else n % 10 + sum_of_digits(n // 10)"
      ],
      "metadata": {
        "id": "gTz4ZhM4cl9K"
      },
      "execution_count": null,
      "outputs": []
    },
    {
      "cell_type": "code",
      "source": [
        "def power(base, exponent):\n",
        "  return base if exponent ==- 1 else base * power(base, exponent - 1)"
      ],
      "metadata": {
        "id": "Fdk1HVYEc9hn"
      },
      "execution_count": null,
      "outputs": []
    },
    {
      "cell_type": "code",
      "source": [
        "def gcd(a, b):\n",
        "  return a if b == 0 else gcd(b, a % b)"
      ],
      "metadata": {
        "id": "dPmdhUwBdNdZ"
      },
      "execution_count": null,
      "outputs": []
    },
    {
      "source": [
        "import numpy as np\n",
        "arr = np.arange(10)\n",
        "print(arr)"
      ],
      "cell_type": "code",
      "metadata": {
        "colab": {
          "base_uri": "https://localhost:8080/"
        },
        "id": "mTf7RVfLdzxa",
        "outputId": "7d76c637-1a85-4aae-beb1-a9a58e2afd44"
      },
      "execution_count": null,
      "outputs": [
        {
          "output_type": "stream",
          "name": "stdout",
          "text": [
            "[0 1 2 3 4 5 6 7 8 9]\n"
          ]
        }
      ]
    },
    {
      "source": [
        "import numpy as np\n",
        "\n",
        "arr_2d = np.arange(1, 10).reshape(3, 3)\n",
        "print(arr_2d)"
      ],
      "cell_type": "code",
      "metadata": {
        "colab": {
          "base_uri": "https://localhost:8080/"
        },
        "id": "r2H7WukDeDoe",
        "outputId": "652478b0-d78b-4251-fa69-de1310accdf0"
      },
      "execution_count": null,
      "outputs": [
        {
          "output_type": "stream",
          "name": "stdout",
          "text": [
            "[[1 2 3]\n",
            " [4 5 6]\n",
            " [7 8 9]]\n"
          ]
        }
      ]
    },
    {
      "source": [
        "import numpy as np\n",
        "\n",
        "identity_matrix = np.eye(3)\n",
        "print(identity_matrix)"
      ],
      "cell_type": "code",
      "metadata": {
        "colab": {
          "base_uri": "https://localhost:8080/"
        },
        "id": "E3No3A8beagj",
        "outputId": "f49534e7-c553-4861-b33d-ab9e70226b51"
      },
      "execution_count": null,
      "outputs": [
        {
          "output_type": "stream",
          "name": "stdout",
          "text": [
            "[[1. 0. 0.]\n",
            " [0. 1. 0.]\n",
            " [0. 0. 1.]]\n"
          ]
        }
      ]
    },
    {
      "source": [
        "import numpy as np\n",
        "\n",
        "arr = np.random.rand(10)\n",
        "\n",
        "mean = np.mean(arr)\n",
        "\n",
        "std = np.std(arr)\n",
        "\n",
        "print(\"Array:\", arr)\n",
        "print(\"Mean:\", mean)\n",
        "print(\"Standard Deviation:\", std)"
      ],
      "cell_type": "code",
      "metadata": {
        "colab": {
          "base_uri": "https://localhost:8080/"
        },
        "id": "iSKScT6dewlu",
        "outputId": "68486d11-d94d-45f4-d23f-4909797988b8"
      },
      "execution_count": null,
      "outputs": [
        {
          "output_type": "stream",
          "name": "stdout",
          "text": [
            "Array: [0.2029061  0.52710912 0.61576649 0.76924056 0.44569154 0.81483795\n",
            " 0.49016063 0.72253239 0.9764491  0.2527371 ]\n",
            "Mean: 0.5817430976599779\n",
            "Standard Deviation: 0.23407375375918346\n"
          ]
        }
      ]
    },
    {
      "source": [
        "import numpy as np\n",
        "\n",
        "arr = np.arange(10, 21)\n",
        "\n",
        "first_five = arr[:5]\n",
        "\n",
        "print(\"Original array:\", arr)\n",
        "print(\"First five elements:\", first_five)"
      ],
      "cell_type": "code",
      "metadata": {
        "colab": {
          "base_uri": "https://localhost:8080/"
        },
        "id": "Mz0_izBZfB7_",
        "outputId": "eb546b6e-c722-467b-95cb-d789d0b3d1a5"
      },
      "execution_count": null,
      "outputs": [
        {
          "output_type": "stream",
          "name": "stdout",
          "text": [
            "Original array: [10 11 12 13 14 15 16 17 18 19 20]\n",
            "First five elements: [10 11 12 13 14]\n"
          ]
        }
      ]
    },
    {
      "source": [
        "import numpy as np\n",
        "\n",
        "arr_2d = np.array([[1, 2, 3, 4],\n",
        "                  [5, 6, 7, 8],\n",
        "                  [9, 10, 11, 12],\n",
        "                  [13, 14, 15, 16]])\n",
        "\n",
        "second_row = arr_2d[1, :]\n",
        "\n",
        "print(\"Original array:\\n\", arr_2d)\n",
        "print(\"Second row:\", second_row)"
      ],
      "cell_type": "code",
      "metadata": {
        "colab": {
          "base_uri": "https://localhost:8080/"
        },
        "id": "S6dKSVt5fNp2",
        "outputId": "390ad77d-0b1d-4925-e4f2-c6b33d08aee2"
      },
      "execution_count": null,
      "outputs": [
        {
          "output_type": "stream",
          "name": "stdout",
          "text": [
            "Original array:\n",
            " [[ 1  2  3  4]\n",
            " [ 5  6  7  8]\n",
            " [ 9 10 11 12]\n",
            " [13 14 15 16]]\n",
            "Second row: [5 6 7 8]\n"
          ]
        }
      ]
    },
    {
      "source": [
        "import numpy as np\n",
        "\n",
        "\n",
        "arr1 = np.arange(1, 6)\n",
        "arr2 = np.arange(6, 11)\n",
        "\n",
        "result = arr1 + arr2\n",
        "\n",
        "print(\"Array 1:\", arr1)\n",
        "print(\"Array 2:\", arr2)\n",
        "print(\"Result:\", result)"
      ],
      "cell_type": "code",
      "metadata": {
        "colab": {
          "base_uri": "https://localhost:8080/"
        },
        "id": "TeLd0k_LfdSy",
        "outputId": "989377a3-378a-43b8-9119-aea17d6445c9"
      },
      "execution_count": null,
      "outputs": [
        {
          "output_type": "stream",
          "name": "stdout",
          "text": [
            "Array 1: [1 2 3 4 5]\n",
            "Array 2: [ 6  7  8  9 10]\n",
            "Result: [ 7  9 11 13 15]\n"
          ]
        }
      ]
    },
    {
      "source": [
        "import numpy as np\n",
        "\n",
        "arr = np.random.rand(10)\n",
        "\n",
        "arr[arr < 0.5] = 0\n",
        "\n",
        "print(\"Original array:\", arr)"
      ],
      "cell_type": "code",
      "metadata": {
        "colab": {
          "base_uri": "https://localhost:8080/"
        },
        "id": "L0uy4CeffoTN",
        "outputId": "27269212-ac12-4e3e-a3ab-d66e82ad2556"
      },
      "execution_count": null,
      "outputs": [
        {
          "output_type": "stream",
          "name": "stdout",
          "text": [
            "Original array: [0.66417848 0.         0.         0.         0.98584017 0.56793117\n",
            " 0.         0.87464511 0.         0.95337629]\n"
          ]
        }
      ]
    }
  ]
}